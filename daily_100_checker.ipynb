{
 "cells": [
  {
   "cell_type": "code",
   "execution_count": 269,
   "id": "0a38c9b8",
   "metadata": {},
   "outputs": [],
   "source": [
    "#-*- coding: utf-8 -*-\n",
    "#\n",
    "\n",
    "import json\n",
    "import requests \n",
    "from pprint import pprint\n",
    "from urllib import request\n",
    "import pandas as pd\n",
    "import re\n",
    "from datetime import datetime\n",
    "from dateutil.relativedelta import relativedelta \n",
    "\n",
    "# 외부 인자로 직접 받기\n",
    "#import argparse\n",
    "#parser = argparse.ArgumentParser(description='Process some integers.')\n",
    "#parser.add_argument('token',  type=str, help='api_token')\n",
    "#parser.add_argument('sheet_url', type = str, help='google_sheet_url')\n",
    "#parser.add_argument('sheet_name', type = str, help='google_sheet_name')\n",
    "\n",
    "# 텍스트 파일에 저장 후 읽어들이기\n",
    "with open('/Users/jinseulpark/Desktop/write/band_automation/cred_info.txt', 'r',encoding= 'utf8') as f:\n",
    "    lin = f.read()\n",
    "    lin_list = lin.split('\\n')\n",
    "    \n",
    "token = lin_list[0] # 네이버 특정 밴드와 연동하기 위한 토큰, 신규 밴드 생성시 해당 값도 수정이 필요함\n",
    "sheet_url = lin_list[1] # 구글 시트 url\n",
    "sheet_name_for_origin = lin_list[2] # 구글 시트명\n",
    "sheet_name_for_late = lin_list[4] # 구글 시트명\n",
    "band_name = lin_list[3] # 네이버 밴드명"
   ]
  },
  {
   "cell_type": "code",
   "execution_count": 270,
   "id": "dbe32cba",
   "metadata": {},
   "outputs": [],
   "source": [
    "\n",
    "def get_bands():\n",
    "    url = f'https://openapi.band.us/v2.1/bands?access_token={token}'\n",
    "    req = request.Request(url)\n",
    "    res = request.urlopen(req)\n",
    "    decoded = res.read().decode('utf8')\n",
    "    json_dict = json.loads(decoded)\n",
    "    return json_dict\n"
   ]
  },
  {
   "cell_type": "code",
   "execution_count": 271,
   "id": "3d5d0821",
   "metadata": {},
   "outputs": [],
   "source": [
    "def get_nickname_summary(result_df):\n",
    "    \n",
    "    result_df['nickname'] = result_df['author'].apply(lambda x : x['name'])\n",
    "    result_df['w_url'] = result_df['content'].apply(lambda x : re.findall(r'(https?://\\S+)', x)[0] if len(re.findall(r'(https?://\\S+)', x)) > 0 else 'not_url' )\n",
    "    result_df['created_date'] = result_df['created_at'].apply(lambda x : pd.to_datetime(datetime.fromtimestamp(x/1000), format = '%Y-%m-%d').date())\n",
    "    if 'latest_comments' not in  result_df.columns:\n",
    "        result_df['latest_comments'] = [np.nan] * result_df.shape[0]\n",
    "    return result_df[['nickname','content','post_key','w_url','created_date','latest_comments']]"
   ]
  },
  {
   "cell_type": "code",
   "execution_count": 272,
   "id": "9aa2d63e",
   "metadata": {},
   "outputs": [],
   "source": [
    "def get_post(next_params, do_push = True):\n",
    "    url = 'https://openapi.band.us/v2/band/posts'\n",
    "    with requests.post(url, next_params) as resp:\n",
    "        json_dict = json.loads(resp.text)\n",
    "        return json_dict\n",
    "    # 로케일 : 사용자 인터페이스에서 사용되는 언어, 지역설정, 출력형식 등을 정의하는 문자열\n",
    "    # 한국어의 경우 ko_KR.UTF-8 (language territory codeset 순서)\n"
   ]
  },
  {
   "cell_type": "code",
   "execution_count": 273,
   "id": "112151ef",
   "metadata": {},
   "outputs": [],
   "source": [
    "def create_post(band_key, content, do_push = True):\n",
    "    url = 'https://openapi.band.us/v2.2/band/post/create'\n",
    "    params = {'access_token': token, \n",
    "              'band_key': band_key,\n",
    "              'content': content, 'do_push' : do_push}\n",
    "    with requests.post(url, params) as resp:\n",
    "        json_dict = json.loads(resp.text)\n",
    "        return json_dict"
   ]
  },
  {
   "cell_type": "code",
   "execution_count": 274,
   "id": "a444142c",
   "metadata": {},
   "outputs": [],
   "source": [
    "def create_comment(band_key, body, post_key):\n",
    "    url = 'https://openapi.band.us/v2/band/post/comment/create'\n",
    "    params = {'access_token': token, \n",
    "              'band_key': band_key,\n",
    "              'body': body, \n",
    "              'post_key' : post_key}\n",
    "    with requests.post(url, params) as resp:\n",
    "        json_dict = json.loads(resp.text)\n",
    "        return json_dict\n",
    "    "
   ]
  },
  {
   "cell_type": "code",
   "execution_count": 275,
   "id": "5308ca3c",
   "metadata": {
    "scrolled": true
   },
   "outputs": [
    {
     "name": "stdout",
     "output_type": "stream",
     "text": [
      "data extraction is finished\n"
     ]
    }
   ],
   "source": [
    "band_info = [i for i in get_bands()['result_data']['bands'] if i['name']== band_name][0]\n",
    "next_params = {'access_token': token, \n",
    "              'band_key': band_info['band_key'],\n",
    "              'locale': 'ko_KR'}\n",
    "\n",
    "df_all_contents = pd.DataFrame()\n",
    "while next_params != 'stop':\n",
    "    if next_params is None:\n",
    "        next_params = 'stop'\n",
    "        \n",
    "    else:\n",
    "        result = get_post(next_params)\n",
    "        next_params = result['result_data']['paging']['next_params']\n",
    "\n",
    "        # 데이터 추출\n",
    "        result_df = pd.DataFrame(result['result_data']['items'])\n",
    "        df_ = get_nickname_summary(result_df)\n",
    "        df_all_contents = pd.concat([df_, df_all_contents])\n",
    "        #print(next_param)\n",
    "    \n",
    "print('data extraction is finished')"
   ]
  },
  {
   "cell_type": "markdown",
   "id": "93efa547",
   "metadata": {},
   "source": [
    "## 1. 멤버의 매일 포스트 체크 daily check posting"
   ]
  },
  {
   "cell_type": "code",
   "execution_count": 277,
   "id": "8a5c8b3f",
   "metadata": {},
   "outputs": [],
   "source": [
    "user_list = df_all_contents.nickname.unique()# 전체 참가자 추출\n",
    "df_all = df_all_contents[df_all_contents['w_url'] != 'not_url'] # url없는 경우를 제외\n",
    "df_all_daily = df_all.groupby(['created_date','nickname'])['w_url'].agg(sum).unstack() # url 없는 글을 제외하고 일별 정리\n",
    "target_date = pd.to_datetime(datetime.today() - relativedelta(days = 1), format = '%Y-%m-%d').date()\n",
    "#target_date = target_date = pd.to_datetime(datetime.today(),format = '%Y-%m-%d').date()\n",
    "\n",
    "# 아예 한번도 작성하지 않아 daily 데이터프레임에 없는 경우, 전체 참가자 리스트에서 수정\n",
    "import numpy as np\n",
    "if set(df_all_daily.columns) != set(user_list):\n",
    "    no_user = [i for i in (set(user_list) - set(df_all_daily.columns))]\n",
    "    for n in no_user:\n",
    "        df_all_daily[f'{n}'] = [np.nan] * df_all_daily.shape[0]\n",
    "        \n",
    "r = df_all_daily.loc[[target_date]].isnull().T\n",
    "\n",
    "# 중간 종료자 체크\n",
    "if r.shape[0] > 0:\n",
    "    get_late_name = [i for i in r[r[target_date]== True].index]\n",
    "    #get_late_name.remove('닉네임')\n",
    "    \n",
    "else:\n",
    "    get_late_name = []\n",
    "\n",
    "from datetime import datetime\n",
    "target_d = datetime.strftime(target_date, format= '%m/%d')\n",
    "if len(get_late_name) >0 :\n",
    "    target_user = ' '.join([f'#{i}' for i in get_late_name])\n",
    "    content = f'#{target_d} {target_user} 지각입니다! \\n 보충글url 은 댓글로 달아주세요:)'\n",
    "else:\n",
    "    content = f'#{target_d} 우리 모두 각자의 100일 글쓰기를 완료한 날입니다. 멋져요!'"
   ]
  },
  {
   "cell_type": "code",
   "execution_count": 278,
   "id": "316f20e2",
   "metadata": {},
   "outputs": [
    {
     "name": "stdout",
     "output_type": "stream",
     "text": [
      "1\n",
      "#05/07 우리 모두 각자의 100일 글쓰기를 완료한 날입니다. 멋져요!\n"
     ]
    }
   ],
   "source": [
    "status_code = create_post(band_info['band_key'], content)['result_code']\n",
    "print(status_code)\n",
    "print(content)"
   ]
  },
  {
   "cell_type": "markdown",
   "id": "4bbd2ada",
   "metadata": {},
   "source": [
    "## 2. 100일 글쓰기 지각글 보충 여부 재확인 late post url re-checker"
   ]
  },
  {
   "cell_type": "code",
   "execution_count": 279,
   "id": "fe528b19",
   "metadata": {
    "scrolled": true
   },
   "outputs": [],
   "source": [
    "from dateutil.relativedelta import relativedelta\n",
    "post_comment_dict = {}\n",
    "last_post_id = {}\n",
    "\n",
    "for row in df_all_contents.values:\n",
    "    content = row[1]\n",
    "    post_id = row[2]\n",
    "    post_created_at= row[4] - relativedelta(days=1)\n",
    "    post_created_at_str = post_created_at.strftime('%Y-%m-%d')\n",
    "    if '우리 모두 각자의' in content:\n",
    "        #print(post_check_at)\n",
    "        if post_created_at not in post_comment_dict:\n",
    "            post_comment_dict[post_created_at_str] = {'content': content}\n",
    "        for user in df_all_daily.columns:\n",
    "            post_comment_dict[post_created_at_str][user+'_late'] = 'GOOD'\n",
    "            \n",
    "    elif '보충글url 은 댓글로 달아주세요' in content:\n",
    "            content_keywords = [i for i in content.split() if i.startswith('#')]\n",
    "            #late_date = '2023/' + content_keywords[0].replace('#','')\n",
    "            #late_date = late_date.replace('/','-')\n",
    "            late_user = content_keywords[1:]\n",
    "            #print(late_user)\n",
    "            if post_created_at not in post_comment_dict:\n",
    "                post_comment_dict[post_created_at_str] = {'content': content}\n",
    "            if post_created_at not in last_post_id:\n",
    "                last_post_id[post_created_at_str] = {'post_key': post_id}\n",
    "            for user in df_all_daily.columns:\n",
    "                if '#'+user in late_user:\n",
    "                    check_at =  datetime.today()\n",
    "                    delay_duration = post_check_at - check_at\n",
    "                    #print(delay_duration)\n",
    "                    post_comment_dict[post_created_at_str][user+'_late'] =  delay_duration\n",
    "                else:\n",
    "                    post_comment_dict[post_created_at_str][user+'_late'] = 'GOOD'\n",
    "                \n",
    "            #print(post_comment_dict)\n",
    "            # 댓글 정보 가져오기\n",
    "            \n",
    "                for comments in row[5]:\n",
    "                    user = comments['author']['name']\n",
    "                    comments_url = comments['body']\n",
    "                    url_pattern = re.compile(r'(https?://\\S+)')\n",
    "                    urls = url_pattern.findall(comments_url)\n",
    "                    post_comment_dict[post_created_at_str][user+'_late'] = urls[0]\n",
    "\n",
    "                #print(post_comment_dict)\n",
    "            else:\n",
    "                continue"
   ]
  },
  {
   "cell_type": "markdown",
   "id": "f30a09fa",
   "metadata": {},
   "source": [
    "## 3. (오래된) 지각글 보충 리마인더 reminder for late posting author"
   ]
  },
  {
   "cell_type": "code",
   "execution_count": 280,
   "id": "51039fda",
   "metadata": {},
   "outputs": [],
   "source": [
    "last_url_comment_df =pd.DataFrame(post_comment_dict).T.sort_index().reset_index()\n",
    "date_list = [ i for i in post_comment_dict.keys()]"
   ]
  },
  {
   "cell_type": "code",
   "execution_count": 281,
   "id": "b8c3ca3f",
   "metadata": {},
   "outputs": [],
   "source": [
    "post_comment_result = pd.DataFrame(post_comment_dict[d].items())"
   ]
  },
  {
   "cell_type": "code",
   "execution_count": 282,
   "id": "5b40882c",
   "metadata": {},
   "outputs": [],
   "source": [
    "import datetime\n",
    "\n",
    "# 현재까지 진행한 전체 일자에서 지각글 잘 달려있는지 확인\n",
    "for d in sorted(date_list):\n",
    "    \n",
    "    commented_user = [(k, v) for k, v in post_comment_dict[d].items() if (type(v) != str) and (v < datetime.timedelta(days=-7))]\n",
    "    #print(d, commented_user)\n",
    "    for c in commented_user:\n",
    "        nickname = '#' + c[0].replace('_late','')\n",
    "        late_period = abs((late_period.days))\n",
    "        if late_period % 7 == 0: # 7일 이상 지각글 보충 안할 경우, 7일에 1번 댓글로 언급\n",
    "            comment_content = f'{nickname}, 지각글 기다리고 있어요!'\n",
    "            create_comment(band_info['band_key'], body = comment_content, post_key=last_post_id[d]['post_key'])\n",
    "            print(comment_content)"
   ]
  },
  {
   "cell_type": "markdown",
   "id": "9ed0f517",
   "metadata": {},
   "source": [
    "## 4. 히스토리를 기록 record history on Google Drive sheet"
   ]
  },
  {
   "cell_type": "code",
   "execution_count": 283,
   "id": "60d498a5",
   "metadata": {
    "scrolled": true
   },
   "outputs": [],
   "source": [
    "# 해당 히스토리를 구글 드라이브에 저장\n",
    "# get spreadsheet \n",
    "import gspread, os\n",
    "#from __future__ import print_function\n",
    "\n",
    "import os.path\n",
    "from datetime import datetime\n",
    "from google.auth.transport.requests import Request\n",
    "from google.oauth2.credentials import Credentials\n",
    "from google_auth_oauthlib.flow import InstalledAppFlow\n",
    "from googleapiclient.discovery import build\n",
    "from googleapiclient.errors import HttpError\n",
    "\n",
    "from oauth2client.service_account import ServiceAccountCredentials\n",
    "\n",
    "# 구글 API 사용을 위한 상수들\n",
    "scope = ['https://spreadsheets.google.com/feeds',\n",
    "         'https://www.googleapis.com/auth/drive']\n",
    "key_file_name = '/Users/jinseulpark/Desktop/write/band_automation/credentials.json' # 아까 받은 json 인증키 파일 경로를 입력\n",
    "\n",
    "credentials = ServiceAccountCredentials.from_json_keyfile_name(key_file_name, scope)\n",
    "spreadsheet = gspread.authorize(credentials).open_by_url(sheet_url)\n",
    "\n",
    "worksheet1 = spreadsheet.worksheet(sheet_name_for_origin)\n",
    "worksheet2 = spreadsheet.worksheet(sheet_name_for_late)\n",
    "\n",
    "df_for_write_sheet = df_all_daily.reset_index()\n",
    "df_for_write_sheet['created_date'] = df_for_write_sheet['created_date'].apply(lambda x: str(x))\n",
    "\n",
    "target_date_str = datetime.strftime(target_date, format = '%Y-%m-%d')\n",
    "# 만약 기존 데이터가 있다면 예외\n",
    "written_list = []\n",
    "range_list = worksheet1.range('A1:A200')\n",
    "for cell in range_list:\n",
    "    #print(cell.value)\n",
    "    written_list.append(cell.value)\n",
    "\n",
    "if target_date_str in written_list :\n",
    "    print('입력 완료')\n",
    "else:\n",
    "    target_row = df_for_write_sheet[df_for_write_sheet['created_date'] ==target_date_str]\n",
    "    worksheet1.append_row([i if type(i) != float else '지각' for i in target_row.values[0] ])"
   ]
  }
 ],
 "metadata": {
  "kernelspec": {
   "display_name": "Python 3",
   "language": "python",
   "name": "python3"
  },
  "language_info": {
   "codemirror_mode": {
    "name": "ipython",
    "version": 3
   },
   "file_extension": ".py",
   "mimetype": "text/x-python",
   "name": "python",
   "nbconvert_exporter": "python",
   "pygments_lexer": "ipython3",
   "version": "3.8.8"
  }
 },
 "nbformat": 4,
 "nbformat_minor": 5
}
